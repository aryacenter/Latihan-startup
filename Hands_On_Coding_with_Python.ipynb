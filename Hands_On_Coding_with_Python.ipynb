{
  "cells": [
    {
      "cell_type": "markdown",
      "metadata": {
        "id": "view-in-github",
        "colab_type": "text"
      },
      "source": [
        "<a href=\"https://colab.research.google.com/github/aryacenter/Latihan-startup/blob/main/Hands_On_Coding_with_Python.ipynb\" target=\"_parent\"><img src=\"https://colab.research.google.com/assets/colab-badge.svg\" alt=\"Open In Colab\"/></a>"
      ]
    },
    {
      "cell_type": "code",
      "execution_count": 5,
      "id": "dc372153",
      "metadata": {
        "id": "dc372153"
      },
      "outputs": [],
      "source": [
        "import pandas as pd\n",
        "import numpy as np\n",
        "import matplotlib.pyplot as plt\n",
        "import seaborn as sns"
      ]
    },
    {
      "cell_type": "markdown",
      "id": "b00d6e3f",
      "metadata": {
        "id": "b00d6e3f"
      },
      "source": [
        "### Variables and Objects"
      ]
    },
    {
      "cell_type": "markdown",
      "id": "fb445ce3",
      "metadata": {
        "id": "fb445ce3"
      },
      "source": [
        "A Python variable is a *symbolic name* that is a reference or pointer to an *object*. Once an object is assigned to a variable, you can refer to the object by that name. But the data itself is still contained within the object."
      ]
    },
    {
      "cell_type": "code",
      "execution_count": null,
      "id": "d573b46a",
      "metadata": {
        "id": "d573b46a"
      },
      "outputs": [],
      "source": [
        "a = 1"
      ]
    },
    {
      "cell_type": "markdown",
      "id": "b2a1fab1",
      "metadata": {
        "id": "b2a1fab1"
      },
      "source": [
        "This assignment creates an *integer object* with the value 1 and assigns the *variable* 'a' to point to that object.\n",
        "\n",
        "Bahasa gampangnya gini.\n",
        "\n",
        "1. Kita buat sebuah object.\n",
        "2. Object ini adalah sebuah bilangan bulat (integer) bernilai 1.\n",
        "3. Terus pas kita mau simpen object yang kita buat ini di memori sistem, kita memberikan dia nama 'a'.\n",
        "4. Biar pas kita mau pake lagi object ini, kita tinggal panggil nama si 'a'."
      ]
    },
    {
      "cell_type": "code",
      "execution_count": null,
      "id": "fadf3d44",
      "metadata": {
        "id": "fadf3d44",
        "outputId": "220525fe-1753-4de0-d08b-082bad04622d"
      },
      "outputs": [
        {
          "data": {
            "text/plain": [
              "int"
            ]
          },
          "execution_count": 2,
          "metadata": {},
          "output_type": "execute_result"
        }
      ],
      "source": [
        "type(a)"
      ]
    },
    {
      "cell_type": "markdown",
      "id": "8236497a",
      "metadata": {
        "id": "8236497a"
      },
      "source": [
        "By using `type(..)` we can know that the object that variable 'a' points, is an integer."
      ]
    },
    {
      "cell_type": "code",
      "execution_count": null,
      "id": "a418d9ca",
      "metadata": {
        "id": "a418d9ca"
      },
      "outputs": [],
      "source": [
        "a = a + 2"
      ]
    },
    {
      "cell_type": "markdown",
      "id": "1c1f6943",
      "metadata": {
        "id": "1c1f6943"
      },
      "source": [
        "By running the above cell, we *modify* the object that we used to call 'a'. We add it by '2'. So now, the value of this object is '3'. \n",
        "\n",
        "Then, this object, an integer whose value is 3, is re-assigned to variable 'a'.\n",
        "\n",
        "So, now, the variable 'a' points to an object whose value is 3."
      ]
    },
    {
      "cell_type": "markdown",
      "id": "4329260c",
      "metadata": {
        "id": "4329260c"
      },
      "source": [
        "### A few examples of Data Types"
      ]
    },
    {
      "cell_type": "markdown",
      "id": "1d3f989b",
      "metadata": {
        "id": "1d3f989b"
      },
      "source": [
        "Each 'object' has its own types. Like what we saw earlier, the object '1' is an integer. Python has different data types that allows us to do different things. "
      ]
    },
    {
      "cell_type": "code",
      "execution_count": 6,
      "id": "e8e3e6e5",
      "metadata": {
        "id": "e8e3e6e5",
        "colab": {
          "base_uri": "https://localhost:8080/"
        },
        "outputId": "626565db-9438-44e6-ac30-95d440e3a130"
      },
      "outputs": [
        {
          "output_type": "stream",
          "name": "stdout",
          "text": [
            "<class 'str'>\n"
          ]
        }
      ],
      "source": [
        "### string, which is usually used to process text data\n",
        "teks_contoh = 'abcdefg'\n",
        "print(type(teks_contoh)) #tes untuk mengetahui kelas"
      ]
    },
    {
      "cell_type": "code",
      "execution_count": null,
      "id": "8089fed0",
      "metadata": {
        "id": "8089fed0"
      },
      "outputs": [],
      "source": [
        "### list, which is used to store other objects and give them order (urutan berpengaruh)\n",
        "list_contoh = [1,2,3,4,5,6]\n"
      ]
    },
    {
      "cell_type": "code",
      "source": [
        "contoh_lagi = [1, \"dua\", 3, [4.5], \"enam\"]\n",
        "len(contoh_lagi)"
      ],
      "metadata": {
        "colab": {
          "base_uri": "https://localhost:8080/"
        },
        "id": "NsfpgQkzC1tz",
        "outputId": "7456d46f-46b7-4326-a590-3e327bd0ca0d"
      },
      "id": "NsfpgQkzC1tz",
      "execution_count": 11,
      "outputs": [
        {
          "output_type": "execute_result",
          "data": {
            "text/plain": [
              "5"
            ]
          },
          "metadata": {},
          "execution_count": 11
        }
      ]
    },
    {
      "cell_type": "markdown",
      "source": [
        ""
      ],
      "metadata": {
        "id": "I227nQm5C08K"
      },
      "id": "I227nQm5C08K"
    },
    {
      "cell_type": "markdown",
      "id": "c25500a2",
      "metadata": {
        "id": "c25500a2"
      },
      "source": [
        "List di atas beranggotakan bilangan-bilangan bulat"
      ]
    },
    {
      "cell_type": "code",
      "execution_count": 20,
      "id": "9b47b2b1",
      "metadata": {
        "id": "9b47b2b1"
      },
      "outputs": [],
      "source": [
        "list_contoh_2 = ['a', 'b', 'c', 'd', 'e']"
      ]
    },
    {
      "cell_type": "code",
      "execution_count": 22,
      "id": "4408f209",
      "metadata": {
        "id": "4408f209",
        "outputId": "ba23a948-de14-450b-ef70-3834635adb28",
        "colab": {
          "base_uri": "https://localhost:8080/",
          "height": 35
        }
      },
      "outputs": [
        {
          "output_type": "execute_result",
          "data": {
            "application/vnd.google.colaboratory.intrinsic+json": {
              "type": "string"
            },
            "text/plain": [
              "'e'"
            ]
          },
          "metadata": {},
          "execution_count": 22
        }
      ],
      "source": [
        "list_contoh_2[4]"
      ]
    },
    {
      "cell_type": "code",
      "execution_count": 28,
      "id": "92a71401",
      "metadata": {
        "id": "92a71401",
        "outputId": "acd86658-dfbb-40fa-fa93-fc88f6c1e2c2",
        "colab": {
          "base_uri": "https://localhost:8080/",
          "height": 35
        }
      },
      "outputs": [
        {
          "output_type": "execute_result",
          "data": {
            "application/vnd.google.colaboratory.intrinsic+json": {
              "type": "string"
            },
            "text/plain": [
              "'a'"
            ]
          },
          "metadata": {},
          "execution_count": 28
        }
      ],
      "source": [
        "list_contoh_2[0]"
      ]
    },
    {
      "cell_type": "code",
      "execution_count": 30,
      "id": "52364fe6",
      "metadata": {
        "id": "52364fe6",
        "outputId": "502b31a3-b46c-4172-bd37-407a557f6ca4",
        "colab": {
          "base_uri": "https://localhost:8080/",
          "height": 35
        }
      },
      "outputs": [
        {
          "output_type": "execute_result",
          "data": {
            "application/vnd.google.colaboratory.intrinsic+json": {
              "type": "string"
            },
            "text/plain": [
              "'b'"
            ]
          },
          "metadata": {},
          "execution_count": 30
        }
      ],
      "source": [
        "list_contoh_2[1]"
      ]
    },
    {
      "cell_type": "markdown",
      "id": "32001c86",
      "metadata": {
        "id": "32001c86"
      },
      "source": [
        "Dan kita bisa 'memanggil' anggota-anggota dari list itu menurut INDEX nya (posisi)."
      ]
    },
    {
      "cell_type": "markdown",
      "id": "eb93dba3",
      "metadata": {
        "id": "eb93dba3"
      },
      "source": [
        "Selain itu, kita juga bisa menambahkan sesuatu ke dalam list yang telah dibuat"
      ]
    },
    {
      "cell_type": "code",
      "execution_count": null,
      "id": "b96fbdc4",
      "metadata": {
        "id": "b96fbdc4"
      },
      "outputs": [],
      "source": [
        "list_contoh.append(10)"
      ]
    },
    {
      "cell_type": "code",
      "execution_count": null,
      "id": "7907e866",
      "metadata": {
        "id": "7907e866"
      },
      "outputs": [],
      "source": [
        "list_contoh"
      ]
    },
    {
      "cell_type": "markdown",
      "id": "b5452fd6",
      "metadata": {
        "id": "b5452fd6"
      },
      "source": [
        "Kita menambahkan angka '8' untuk dimasukkan ke dalam list_contoh. \n",
        "\n",
        "Object 'list' yang direfer oleh variabel `list_contoh` pun berubah. Ini tujuannya ada variabel, biar kita bisa ngecek nilai 'terkini' dari masing-masing object yang telah kita buat di masa lampau. Biar kita tau perubahannya. Dan ga usah ngebuat object tersebut dari 0 lagi. Tinggal dipanggil pake 1 nama yang konsisten aja."
      ]
    },
    {
      "cell_type": "code",
      "execution_count": 14,
      "id": "e6585c7e",
      "metadata": {
        "id": "e6585c7e"
      },
      "outputs": [],
      "source": [
        "### list can have duplicates in them\n",
        "list_contoh_2 = [1,1,1,1,1,1]"
      ]
    },
    {
      "cell_type": "code",
      "execution_count": null,
      "id": "e27c4006",
      "metadata": {
        "id": "e27c4006"
      },
      "outputs": [],
      "source": [
        "### set, himpunan. Berbeda dari list, set nggak boleh ada komponen duplikat. \n",
        "### tapi, di dalam himpunan, tidak ada urutan"
      ]
    },
    {
      "cell_type": "code",
      "execution_count": 15,
      "id": "35d9cb2e",
      "metadata": {
        "id": "35d9cb2e"
      },
      "outputs": [],
      "source": [
        "set_contoh = set(['d','i','b','i','m','b','i','n','g'])"
      ]
    },
    {
      "cell_type": "code",
      "execution_count": 18,
      "id": "a7a1a3a9",
      "metadata": {
        "id": "a7a1a3a9",
        "outputId": "fc1304fc-74ab-4558-e263-b436df0e34cb",
        "colab": {
          "base_uri": "https://localhost:8080/"
        }
      },
      "outputs": [
        {
          "output_type": "execute_result",
          "data": {
            "text/plain": [
              "{'b', 'd', 'g', 'i', 'm', 'n'}"
            ]
          },
          "metadata": {},
          "execution_count": 18
        }
      ],
      "source": [
        "set_contoh"
      ]
    },
    {
      "cell_type": "code",
      "source": [
        "len(set_contoh)"
      ],
      "metadata": {
        "colab": {
          "base_uri": "https://localhost:8080/"
        },
        "id": "N5RXzaj2FQRK",
        "outputId": "e273f995-c7b8-4df8-98bd-1f617aa26a0b"
      },
      "id": "N5RXzaj2FQRK",
      "execution_count": 19,
      "outputs": [
        {
          "output_type": "execute_result",
          "data": {
            "text/plain": [
              "6"
            ]
          },
          "metadata": {},
          "execution_count": 19
        }
      ]
    },
    {
      "cell_type": "markdown",
      "id": "564f9ba6",
      "metadata": {
        "id": "564f9ba6"
      },
      "source": [
        "Another important data type is called dictionary in which we can store KEYS and Values.\n",
        "\n",
        "Waduh, dictionary apa lagi tuh.\n",
        "\n",
        "Udah, anggep aja 'kamus'. \n",
        "\n",
        "Di kamus kan ada katanya, dan ada definisinya. \n",
        "\n",
        "Sama, dictionary juga begitu cara kerjanya. Begini."
      ]
    },
    {
      "cell_type": "code",
      "execution_count": 32,
      "id": "09c50503",
      "metadata": {
        "id": "09c50503"
      },
      "outputs": [],
      "source": [
        "identitas = {\n",
        "    'nama':'eren yeager',\n",
        "    'tempat lahir':'pulau paradis',\n",
        "    'jenis kelamin':'laki-laki',\n",
        "    'angkatan':104,\n",
        "    'jurusan':'survey corps'\n",
        "}"
      ]
    },
    {
      "cell_type": "markdown",
      "id": "0bd49b1b",
      "metadata": {
        "id": "0bd49b1b"
      },
      "source": [
        "'Nama', 'tempat lahir', 'jenis kelamin', itu ibarat 'kata-kata' dalam kamus. Kita sebutnya KEYS\n",
        "\n",
        "Sedangkan 'eren yeager', 'pulau paradis', dll, itu adalah VALUES. Itu adalah 'definisi' dari 'kata-kata di dalam kamus', analoginya begitu kira-kira"
      ]
    },
    {
      "cell_type": "code",
      "execution_count": 33,
      "id": "afa40fb4",
      "metadata": {
        "id": "afa40fb4",
        "outputId": "b1b5d11c-e7ec-49ad-efa5-3152a7e24a3e",
        "colab": {
          "base_uri": "https://localhost:8080/",
          "height": 35
        }
      },
      "outputs": [
        {
          "output_type": "execute_result",
          "data": {
            "application/vnd.google.colaboratory.intrinsic+json": {
              "type": "string"
            },
            "text/plain": [
              "'eren yeager'"
            ]
          },
          "metadata": {},
          "execution_count": 33
        }
      ],
      "source": [
        "identitas['nama']"
      ]
    },
    {
      "cell_type": "code",
      "execution_count": 34,
      "id": "11938af1",
      "metadata": {
        "id": "11938af1",
        "outputId": "9723caa0-8437-458e-d1f5-4ec0ac34352c",
        "colab": {
          "base_uri": "https://localhost:8080/"
        }
      },
      "outputs": [
        {
          "output_type": "execute_result",
          "data": {
            "text/plain": [
              "104"
            ]
          },
          "metadata": {},
          "execution_count": 34
        }
      ],
      "source": [
        "identitas['angkatan']"
      ]
    },
    {
      "cell_type": "code",
      "execution_count": 35,
      "id": "36d71dc8",
      "metadata": {
        "id": "36d71dc8",
        "outputId": "5042f167-1615-4bc6-b30f-09732ea3906c",
        "colab": {
          "base_uri": "https://localhost:8080/",
          "height": 35
        }
      },
      "outputs": [
        {
          "output_type": "execute_result",
          "data": {
            "application/vnd.google.colaboratory.intrinsic+json": {
              "type": "string"
            },
            "text/plain": [
              "'survey corps'"
            ]
          },
          "metadata": {},
          "execution_count": 35
        }
      ],
      "source": [
        "identitas['jurusan']"
      ]
    },
    {
      "cell_type": "markdown",
      "id": "f0e95da3",
      "metadata": {
        "id": "f0e95da3"
      },
      "source": [
        "Kegunaannya? Banyak...contohnya bgini."
      ]
    },
    {
      "cell_type": "code",
      "source": [
        ""
      ],
      "metadata": {
        "id": "SkdLnjKgISfz"
      },
      "id": "SkdLnjKgISfz",
      "execution_count": 39,
      "outputs": []
    },
    {
      "cell_type": "code",
      "execution_count": 37,
      "id": "d7dc0a84",
      "metadata": {
        "id": "d7dc0a84"
      },
      "outputs": [],
      "source": [
        "barang_dagangan = {\n",
        "    'ibox':['iphone 13','macbook pro', 'mac mini', 'macbook air'],\n",
        "    'erafone':['xiaomi 11', 'redmi note 11', 'realme neo gt 2']\n",
        "}"
      ]
    },
    {
      "cell_type": "code",
      "execution_count": 38,
      "id": "44f0a961",
      "metadata": {
        "id": "44f0a961",
        "outputId": "f835bc86-6af0-401f-fae1-321daab00621",
        "colab": {
          "base_uri": "https://localhost:8080/"
        }
      },
      "outputs": [
        {
          "output_type": "stream",
          "name": "stdout",
          "text": [
            "['iphone 13', 'macbook pro', 'mac mini', 'macbook air']\n"
          ]
        }
      ],
      "source": [
        "barang_di_ibox = barang_dagangan['ibox']\n",
        "print(barang_di_ibox)"
      ]
    },
    {
      "cell_type": "code",
      "execution_count": 40,
      "id": "4981171a",
      "metadata": {
        "id": "4981171a",
        "outputId": "b7cdecec-f708-4d47-fe1d-8558eed20a33",
        "colab": {
          "base_uri": "https://localhost:8080/",
          "height": 35
        }
      },
      "outputs": [
        {
          "output_type": "execute_result",
          "data": {
            "application/vnd.google.colaboratory.intrinsic+json": {
              "type": "string"
            },
            "text/plain": [
              "'mac mini'"
            ]
          },
          "metadata": {},
          "execution_count": 40
        }
      ],
      "source": [
        "barang_di_ibox[2]"
      ]
    },
    {
      "cell_type": "code",
      "execution_count": 42,
      "id": "60dc6dd7",
      "metadata": {
        "id": "60dc6dd7"
      },
      "outputs": [],
      "source": [
        "list_gede = [identitas, barang_dagangan]"
      ]
    },
    {
      "cell_type": "code",
      "execution_count": null,
      "id": "268e3a6d",
      "metadata": {
        "id": "268e3a6d",
        "outputId": "fea8c2e5-4bf7-4904-fe58-eb6fd0078066"
      },
      "outputs": [
        {
          "data": {
            "text/plain": [
              "list"
            ]
          },
          "execution_count": 42,
          "metadata": {},
          "output_type": "execute_result"
        }
      ],
      "source": [
        "type(list_gede)"
      ]
    },
    {
      "cell_type": "code",
      "execution_count": null,
      "id": "f5b256a9",
      "metadata": {
        "id": "f5b256a9",
        "outputId": "545a07f0-7fd7-4ae8-9cf3-2b87137b5dc9"
      },
      "outputs": [
        {
          "data": {
            "text/plain": [
              "'mac mini'"
            ]
          },
          "execution_count": 44,
          "metadata": {},
          "output_type": "execute_result"
        }
      ],
      "source": [
        "list_gede[1]['ibox'][2]"
      ]
    },
    {
      "cell_type": "code",
      "execution_count": null,
      "id": "ebba5ce5",
      "metadata": {
        "id": "ebba5ce5"
      },
      "outputs": [],
      "source": [
        "barang_dagangan['ibox'].append('Samsung')"
      ]
    },
    {
      "cell_type": "code",
      "execution_count": null,
      "id": "3ea47287",
      "metadata": {
        "id": "3ea47287",
        "outputId": "4f5c178a-b785-4f95-8b85-490d3d24c6e3"
      },
      "outputs": [
        {
          "data": {
            "text/plain": [
              "{'ibox': ['iphone 13', 'macbook pro', 'mac mini', 'macbook air', 'Samsung'],\n",
              " 'erafone': ['xiaomi 11', 'redmi note 11', 'realme neo gt 2']}"
            ]
          },
          "execution_count": 47,
          "metadata": {},
          "output_type": "execute_result"
        }
      ],
      "source": [
        "barang_dagangan"
      ]
    },
    {
      "cell_type": "markdown",
      "source": [
        "# untuk memasukkan tanggal lahir, pilih package\n",
        "https://realpython.com/python-datetime/\n",
        "https://belajarpython.com/tutorial/tanggal-waktu-python\n",
        "\n",
        "## amount = 123456.78\n",
        "currency = \"${:,.2f}\", format. (amount)\n"
      ],
      "metadata": {
        "id": "-hbHPq4TIVjt"
      },
      "id": "-hbHPq4TIVjt"
    },
    {
      "cell_type": "markdown",
      "id": "bade48b9",
      "metadata": {
        "id": "bade48b9"
      },
      "source": [
        "### Printing and its Confusion"
      ]
    },
    {
      "cell_type": "markdown",
      "id": "c6f9cc88",
      "metadata": {
        "id": "c6f9cc88"
      },
      "source": [
        "In jupyter notebook, printing an object might cause confusion to a lot of newbies."
      ]
    },
    {
      "cell_type": "markdown",
      "id": "bfb72a46",
      "metadata": {
        "id": "bfb72a46"
      },
      "source": [
        "If you don't use `print` function, it will automatically output the last line of code"
      ]
    },
    {
      "cell_type": "code",
      "execution_count": 39,
      "id": "9a61b8bb",
      "metadata": {
        "id": "9a61b8bb",
        "outputId": "8a98df1a-5333-4868-fe4c-d8d3696608c6",
        "colab": {
          "base_uri": "https://localhost:8080/"
        }
      },
      "outputs": [
        {
          "output_type": "execute_result",
          "data": {
            "text/plain": [
              "2"
            ]
          },
          "metadata": {},
          "execution_count": 39
        }
      ],
      "source": [
        "1+1"
      ]
    },
    {
      "cell_type": "code",
      "execution_count": 44,
      "id": "aa34b44f",
      "metadata": {
        "id": "aa34b44f",
        "outputId": "0a12a95b-4aff-4b53-cdc2-3a2750507bc0",
        "colab": {
          "base_uri": "https://localhost:8080/"
        }
      },
      "outputs": [
        {
          "output_type": "stream",
          "name": "stdout",
          "text": [
            "3\n",
            "7\n"
          ]
        }
      ],
      "source": [
        "print(1+2)\n",
        "2+3\n",
        "print(3+4)"
      ]
    },
    {
      "cell_type": "markdown",
      "id": "b1ee0352",
      "metadata": {
        "id": "b1ee0352"
      },
      "source": [
        "If you want to output everything..then you have to write `print`"
      ]
    },
    {
      "cell_type": "code",
      "execution_count": 45,
      "id": "47e273bb",
      "metadata": {
        "id": "47e273bb",
        "outputId": "3507acf8-9638-445c-f067-4db86beb039f",
        "colab": {
          "base_uri": "https://localhost:8080/"
        }
      },
      "outputs": [
        {
          "output_type": "stream",
          "name": "stdout",
          "text": [
            "3\n",
            "7\n"
          ]
        }
      ],
      "source": [
        "print(1+2)\n",
        "2+3\n",
        "print(3+4)"
      ]
    },
    {
      "cell_type": "markdown",
      "id": "e670770d",
      "metadata": {
        "id": "e670770d"
      },
      "source": [
        "Look, that one in the middle, that does not have `print`, did not get 'printed'"
      ]
    },
    {
      "cell_type": "markdown",
      "id": "2a69e79d",
      "metadata": {
        "id": "2a69e79d"
      },
      "source": [
        "### Methods and Functions"
      ]
    },
    {
      "cell_type": "markdown",
      "id": "5fca73d8",
      "metadata": {
        "id": "5fca73d8"
      },
      "source": [
        "Simply said, functions are a set of instruction which are wrapped by a name, so we can call it anytime, and it saved us from writing everything from scratch."
      ]
    },
    {
      "cell_type": "code",
      "execution_count": 76,
      "id": "33d3d57d",
      "metadata": {
        "id": "33d3d57d",
        "outputId": "9b9ffdb0-1ac1-4c08-f61c-40d6dff20cb2",
        "colab": {
          "base_uri": "https://localhost:8080/",
          "height": 184
        }
      },
      "outputs": [
        {
          "output_type": "error",
          "ename": "NameError",
          "evalue": "ignored",
          "traceback": [
            "\u001b[0;31m---------------------------------------------------------------------------\u001b[0m",
            "\u001b[0;31mNameError\u001b[0m                                 Traceback (most recent call last)",
            "\u001b[0;32m<ipython-input-76-e20fb0038273>\u001b[0m in \u001b[0;36m<module>\u001b[0;34m()\u001b[0m\n\u001b[0;32m----> 1\u001b[0;31m \u001b[0mnama_fungsi\u001b[0m\u001b[0;34m\u001b[0m\u001b[0;34m\u001b[0m\u001b[0m\n\u001b[0m\u001b[1;32m      2\u001b[0m \u001b[0mlen\u001b[0m\u001b[0;34m=\u001b[0m \u001b[0;34m[\u001b[0m\u001b[0;36m1\u001b[0m\u001b[0;34m,\u001b[0m\u001b[0;36m2\u001b[0m\u001b[0;34m,\u001b[0m\u001b[0;36m3\u001b[0m\u001b[0;34m,\u001b[0m\u001b[0;36m4\u001b[0m\u001b[0;34m,\u001b[0m\u001b[0;36m5\u001b[0m\u001b[0;34m,\u001b[0m\u001b[0;36m6\u001b[0m\u001b[0;34m]\u001b[0m\u001b[0;34m\u001b[0m\u001b[0;34m\u001b[0m\u001b[0m\n",
            "\u001b[0;31mNameError\u001b[0m: name 'nama_fungsi' is not defined"
          ]
        }
      ],
      "source": [
        "nama_fungsi\n",
        "len(list_contoh_2)"
      ]
    },
    {
      "cell_type": "markdown",
      "id": "c1afd157",
      "metadata": {
        "id": "c1afd157"
      },
      "source": [
        "Some functions are built in, like `len`. Len will measure the length of the input object, and give us the 'length' of that object."
      ]
    },
    {
      "cell_type": "code",
      "execution_count": 55,
      "id": "03fc9464",
      "metadata": {
        "id": "03fc9464",
        "outputId": "dcad8a94-a2a3-4fc1-881e-6e00460b12af",
        "colab": {
          "base_uri": "https://localhost:8080/"
        }
      },
      "outputs": [
        {
          "output_type": "execute_result",
          "data": {
            "text/plain": [
              "['a', 'b', 'c', 'd', 'e']"
            ]
          },
          "metadata": {},
          "execution_count": 55
        }
      ],
      "source": [
        "list_contoh_2"
      ]
    },
    {
      "cell_type": "markdown",
      "id": "0b3160e9",
      "metadata": {
        "id": "0b3160e9"
      },
      "source": [
        "See? There are indeed 7 members in the `list_contoh`. So, the length is 7. So, the function `len` outputs a value of 7, when we give `list_contoh` as the input."
      ]
    },
    {
      "cell_type": "markdown",
      "id": "3d5bb926",
      "metadata": {
        "id": "3d5bb926"
      },
      "source": [
        "Some functions can also be custom-made. Most of us will do this in our career, so get used to write functions!"
      ]
    },
    {
      "cell_type": "code",
      "execution_count": 52,
      "id": "cd3b1ca4",
      "metadata": {
        "id": "cd3b1ca4"
      },
      "outputs": [],
      "source": [
        "def luas_keliling(panjang, lebar):\n",
        "    luas = panjang * lebar\n",
        "    keliling = 2*(panjang+lebar)\n",
        "    \n",
        "    return luas, keliling"
      ]
    },
    {
      "cell_type": "markdown",
      "id": "43ef6d0b",
      "metadata": {
        "id": "43ef6d0b"
      },
      "source": [
        "Let's study this function.\n",
        "\n",
        "This function takes in two inputs. \n",
        "\n",
        "- Input pertama, itu diberi variabel `panjang`. Pemberian nama `panjang` ini sementara doang, cuma dipake pas lagi nge-run fungsinya. \n",
        "- Input kedua, itu diberi variabel `lebar`.\n",
        "\n",
        "Nantinya, si input pertama dan kedua ini dikalikan...jadilah object baru yang diberi variabel `luas`.\n",
        "\n",
        "Setelah itu, dihitung `keliling`nya.\n",
        "\n",
        "Akhirnya, fungsi ini menggunakan kata `return`. \n",
        "\n",
        "Artinya, setelah selesai menghitung, ada 2 object yang fungsi ini akan *kembalikan* ke kita, yaitu berupa luas, dan keliling."
      ]
    },
    {
      "cell_type": "code",
      "execution_count": 54,
      "id": "38710fb1",
      "metadata": {
        "id": "38710fb1",
        "outputId": "f87bae88-114c-4c3e-8c0c-1877e8bd3438",
        "colab": {
          "base_uri": "https://localhost:8080/"
        }
      },
      "outputs": [
        {
          "output_type": "execute_result",
          "data": {
            "text/plain": [
              "(21, 20)"
            ]
          },
          "metadata": {},
          "execution_count": 54
        }
      ],
      "source": [
        "luas_keliling(7,3)"
      ]
    },
    {
      "cell_type": "markdown",
      "id": "2a2abbf9",
      "metadata": {
        "id": "2a2abbf9"
      },
      "source": [
        "Artinya, untuk persegi panjang yang panjangnya 7 dan lebarnya 3, luasnya 21, lebarnya 20.\n",
        "\n",
        "Ingat posisinya! panjang itu input pertama, lebar itu input kedua.\n",
        "\n",
        "Pas di-return, yang pertama itu luas, baru keliling!"
      ]
    },
    {
      "cell_type": "markdown",
      "id": "fc74a508",
      "metadata": {
        "id": "fc74a508"
      },
      "source": [
        "Gimana cara kita 'nyimpen' value yang di-return?"
      ]
    },
    {
      "cell_type": "code",
      "execution_count": 59,
      "id": "285dcceb",
      "metadata": {
        "id": "285dcceb"
      },
      "outputs": [],
      "source": [
        "jawaban_l, jawaban_k = luas_keliling(7, 4)"
      ]
    },
    {
      "cell_type": "code",
      "execution_count": 60,
      "id": "2eb5f543",
      "metadata": {
        "id": "2eb5f543",
        "outputId": "fa507681-388b-4e54-86e3-6db7d6e0caae",
        "colab": {
          "base_uri": "https://localhost:8080/"
        }
      },
      "outputs": [
        {
          "output_type": "stream",
          "name": "stdout",
          "text": [
            "28\n",
            "22\n"
          ]
        }
      ],
      "source": [
        "print(jawaban_l)\n",
        "print(jawaban_k)"
      ]
    },
    {
      "cell_type": "markdown",
      "id": "04799bf1",
      "metadata": {
        "id": "04799bf1"
      },
      "source": [
        "Ga mau nyimpen value ah, maunya ngeprint aja. Gimana dong? \n",
        "\n",
        "Bisa!"
      ]
    },
    {
      "cell_type": "code",
      "execution_count": 61,
      "id": "355913c3",
      "metadata": {
        "id": "355913c3"
      },
      "outputs": [],
      "source": [
        "def luas_keliling(panjang, lebar):\n",
        "    luas = panjang * lebar\n",
        "    keliling = 2*(panjang+lebar)\n",
        "    \n",
        "    print('Luas persegi panjang:', luas)\n",
        "    print('Keliling persegi panjang:', keliling)"
      ]
    },
    {
      "cell_type": "code",
      "execution_count": 64,
      "id": "32ffa201",
      "metadata": {
        "id": "32ffa201",
        "outputId": "1e668fe5-4b46-4d0b-825f-1fd5c4563595",
        "colab": {
          "base_uri": "https://localhost:8080/"
        }
      },
      "outputs": [
        {
          "output_type": "stream",
          "name": "stdout",
          "text": [
            "Luas persegi panjang: 21\n",
            "Keliling persegi panjang: 20\n"
          ]
        }
      ],
      "source": [
        "luas_keliling(7, 3)"
      ]
    },
    {
      "cell_type": "markdown",
      "id": "8d447dbe",
      "metadata": {
        "id": "8d447dbe"
      },
      "source": [
        "Tapi konsekuensinya, ya nilai '21' dan '20' ini nggak disimpen dimana pun. Cuma di print doang."
      ]
    },
    {
      "cell_type": "markdown",
      "id": "ebe04013",
      "metadata": {
        "id": "ebe04013"
      },
      "source": [
        "Kalo mau disimpen dan diprint gimana?"
      ]
    },
    {
      "cell_type": "code",
      "execution_count": 65,
      "id": "26b8096d",
      "metadata": {
        "id": "26b8096d"
      },
      "outputs": [],
      "source": [
        "def luas_keliling(panjang, lebar):\n",
        "    luas = panjang * lebar\n",
        "    keliling = 2*(panjang+lebar)\n",
        "    \n",
        "    print('Luas persegi panjang:', luas)\n",
        "    print('Keliling persegi panjang:', keliling)\n",
        "    \n",
        "    return luas, keliling"
      ]
    },
    {
      "cell_type": "code",
      "execution_count": 66,
      "id": "9644f000",
      "metadata": {
        "id": "9644f000",
        "outputId": "e40b67a9-7538-4162-ffe3-1ce43dec4537",
        "colab": {
          "base_uri": "https://localhost:8080/"
        }
      },
      "outputs": [
        {
          "output_type": "stream",
          "name": "stdout",
          "text": [
            "Luas persegi panjang: 36\n",
            "Keliling persegi panjang: 26\n"
          ]
        }
      ],
      "source": [
        "jawaban_luas, jawaban_keliling = luas_keliling(9,4)"
      ]
    },
    {
      "cell_type": "code",
      "execution_count": 67,
      "id": "6bfb6bb5",
      "metadata": {
        "id": "6bfb6bb5",
        "outputId": "40c30c3e-58b4-4edd-aac6-3088d85d8ae4",
        "colab": {
          "base_uri": "https://localhost:8080/"
        }
      },
      "outputs": [
        {
          "output_type": "stream",
          "name": "stdout",
          "text": [
            "36\n"
          ]
        }
      ],
      "source": [
        "print(jawaban_luas)"
      ]
    },
    {
      "cell_type": "markdown",
      "id": "af94c10f",
      "metadata": {
        "id": "af94c10f"
      },
      "source": [
        "Fungsi yang lengkap"
      ]
    },
    {
      "cell_type": "code",
      "execution_count": 68,
      "id": "a8b0e47d",
      "metadata": {
        "id": "a8b0e47d"
      },
      "outputs": [],
      "source": [
        "a = 1\n",
        "b = 2"
      ]
    },
    {
      "cell_type": "code",
      "source": [
        "a, b = b, a #sekarang kita switch (ganti)\n",
        "print (a)\n",
        "print(b)"
      ],
      "metadata": {
        "colab": {
          "base_uri": "https://localhost:8080/"
        },
        "id": "ISxSjGe3R2zn",
        "outputId": "32cce000-7847-4d56-ea1c-a000737c350e"
      },
      "id": "ISxSjGe3R2zn",
      "execution_count": 78,
      "outputs": [
        {
          "output_type": "stream",
          "name": "stdout",
          "text": [
            "1\n",
            "2\n"
          ]
        }
      ]
    },
    {
      "cell_type": "code",
      "execution_count": 68,
      "id": "d19b20d4",
      "metadata": {
        "id": "d19b20d4"
      },
      "outputs": [],
      "source": [
        ""
      ]
    },
    {
      "cell_type": "code",
      "execution_count": 69,
      "id": "c4e8260b",
      "metadata": {
        "id": "c4e8260b"
      },
      "outputs": [],
      "source": [
        "def luas_keliling(panjang, lebar):\n",
        "    \"\"\"\n",
        "    Fungsi ini menerima dua input, yaitu panjang dan lebar.\n",
        "    Jika panjang lebih pendek daripada lebar, maka kedua nilai tersebut akan saling ditukar.\n",
        "    Setelah itu, luas dan keliling persegi panjang akan dihitung.\n",
        "    Pada akhirnya, nilai luas dan keliling akan diprint, dan direturn, dengan urutan luas dulu baru keliling.\n",
        "    \"\"\"    \n",
        "    \n",
        "    if panjang < lebar: \n",
        "        lebar, panjang = panjang, lebar\n",
        "        print('Waduh! Kok panjang lebih pendek daripada lebar. Kita switch ya!')\n",
        "    else:\n",
        "        pass\n",
        "        \n",
        "    luas = panjang * lebar\n",
        "    keliling = 2*(panjang + lebar)\n",
        "    \n",
        "    print(f'Luas persegi panjang yang memiliki panjang {panjang} dan lebar {lebar} adalah {luas}')\n",
        "    print(f'Keliling persegi panjang yang memiliki panjang {panjang} dan lebar {lebar} adalah {keliling}')\n",
        "    \n",
        "    return luas, keliling\n",
        "        "
      ]
    },
    {
      "cell_type": "code",
      "execution_count": 70,
      "id": "78f1a1be",
      "metadata": {
        "id": "78f1a1be",
        "outputId": "3d02c284-b96c-4af3-bc7c-594bc6355b80",
        "colab": {
          "base_uri": "https://localhost:8080/"
        }
      },
      "outputs": [
        {
          "output_type": "stream",
          "name": "stdout",
          "text": [
            "Waduh! Kok panjang lebih pendek daripada lebar. Kita switch ya!\n",
            "Luas persegi panjang yang memiliki panjang 5 dan lebar 3 adalah 15\n",
            "Keliling persegi panjang yang memiliki panjang 5 dan lebar 3 adalah 16\n"
          ]
        }
      ],
      "source": [
        "luas_pp, keliling_pp = luas_keliling(3, 5)"
      ]
    },
    {
      "cell_type": "code",
      "execution_count": 71,
      "id": "afab4b08",
      "metadata": {
        "id": "afab4b08",
        "outputId": "c38c8c8a-bea9-45f4-c063-320238bcfffa",
        "colab": {
          "base_uri": "https://localhost:8080/"
        }
      },
      "outputs": [
        {
          "output_type": "stream",
          "name": "stdout",
          "text": [
            "Luas persegi panjang yang memiliki panjang 8 dan lebar 5 adalah 40\n",
            "Keliling persegi panjang yang memiliki panjang 8 dan lebar 5 adalah 26\n"
          ]
        }
      ],
      "source": [
        "luas_pp, keliling_pp = luas_keliling(8, 5)"
      ]
    },
    {
      "cell_type": "code",
      "execution_count": 72,
      "id": "b80f4ff0",
      "metadata": {
        "id": "b80f4ff0"
      },
      "outputs": [],
      "source": [
        "def fungsi_banyak_input(input_1, input_2, input_3, input_4, input_5, input_6):\n",
        "    return input_6, input_5, input_4, input_3, input_2, input_1"
      ]
    },
    {
      "cell_type": "code",
      "execution_count": 73,
      "id": "30f54ec2",
      "metadata": {
        "id": "30f54ec2",
        "outputId": "abdcf0c1-cba6-42f0-ae83-ee084471e1bd",
        "colab": {
          "base_uri": "https://localhost:8080/"
        }
      },
      "outputs": [
        {
          "output_type": "execute_result",
          "data": {
            "text/plain": [
              "(6, 5, 4, 3, 2, 1)"
            ]
          },
          "metadata": {},
          "execution_count": 73
        }
      ],
      "source": [
        "fungsi_banyak_input(1,2,3,4,5,6)"
      ]
    },
    {
      "cell_type": "code",
      "execution_count": 74,
      "id": "d3d5e905",
      "metadata": {
        "id": "d3d5e905",
        "outputId": "dacb93f5-3c6f-4662-da5a-6ed1864d370a",
        "colab": {
          "base_uri": "https://localhost:8080/"
        }
      },
      "outputs": [
        {
          "output_type": "stream",
          "name": "stdout",
          "text": [
            "Nilai ulangan akhir saya adalah 100 maka saya sangat senang\n"
          ]
        }
      ],
      "source": [
        "nilai = 100\n",
        "print(f'Nilai ulangan akhir saya adalah {nilai} maka saya sangat senang')"
      ]
    },
    {
      "cell_type": "markdown",
      "id": "a540c1e0",
      "metadata": {
        "id": "a540c1e0"
      },
      "source": [
        "Oke. Kita selesai dengan 'function'.\n",
        "\n",
        "Kalo gitu 'method' apa?\n",
        "\n",
        "Method itu mirip seperti function, tapi 'terikat' sama object.\n",
        "\n",
        "Method adalah function yang tergantung sama object. Bedanya apa dong? Pas kita manggil sebuah method, biasanya letaknya dia adalah setelah tanda titik di sebelah kanan object. Maksudnya apa si? Gini..."
      ]
    },
    {
      "cell_type": "code",
      "execution_count": 75,
      "id": "65235052",
      "metadata": {
        "id": "65235052"
      },
      "outputs": [],
      "source": [
        "list_contoh = [1,2,3,4,5,6]"
      ]
    },
    {
      "cell_type": "markdown",
      "id": "3ce8150e",
      "metadata": {
        "id": "3ce8150e"
      },
      "source": [
        "Kita tambahin ya angka 8 ke list contoh itu?"
      ]
    },
    {
      "cell_type": "code",
      "execution_count": 79,
      "id": "8994c884",
      "metadata": {
        "id": "8994c884"
      },
      "outputs": [],
      "source": [
        "list_contoh.append(8)"
      ]
    },
    {
      "cell_type": "code",
      "execution_count": 80,
      "id": "2d1a9033",
      "metadata": {
        "id": "2d1a9033",
        "outputId": "72c38719-9fdf-4703-85d3-8f5defd34032",
        "colab": {
          "base_uri": "https://localhost:8080/"
        }
      },
      "outputs": [
        {
          "output_type": "execute_result",
          "data": {
            "text/plain": [
              "[1, 2, 3, 4, 5, 6, 8]"
            ]
          },
          "metadata": {},
          "execution_count": 80
        }
      ],
      "source": [
        "list_contoh"
      ]
    },
    {
      "cell_type": "markdown",
      "id": "2891cc0d",
      "metadata": {
        "id": "2891cc0d"
      },
      "source": [
        "Nah, append ini adalah `method`.\n",
        "\n",
        "Append ini merupakan `method` khusus buat object-object yang tipenya itu `list`. "
      ]
    },
    {
      "cell_type": "code",
      "execution_count": 84,
      "id": "cf39ac43",
      "metadata": {
        "id": "cf39ac43"
      },
      "outputs": [],
      "source": [
        "himpunan_baru = {1,2,3,4,5,6,7}"
      ]
    },
    {
      "cell_type": "code",
      "execution_count": null,
      "id": "61b6e4ef",
      "metadata": {
        "id": "61b6e4ef"
      },
      "outputs": [],
      "source": [
        "himpunan_baru.append(5)"
      ]
    },
    {
      "cell_type": "markdown",
      "id": "9597c9f7",
      "metadata": {
        "id": "9597c9f7"
      },
      "source": [
        "Error kan?"
      ]
    },
    {
      "cell_type": "code",
      "execution_count": 86,
      "id": "fe70b8e7",
      "metadata": {
        "id": "fe70b8e7"
      },
      "outputs": [],
      "source": [
        "himpunan_baru.add(6)"
      ]
    },
    {
      "cell_type": "code",
      "execution_count": 87,
      "id": "ef35b8e4",
      "metadata": {
        "id": "ef35b8e4",
        "outputId": "f0dc3404-21e8-42c6-aa6e-90cf570ef560",
        "colab": {
          "base_uri": "https://localhost:8080/"
        }
      },
      "outputs": [
        {
          "output_type": "execute_result",
          "data": {
            "text/plain": [
              "{1, 2, 3, 4, 5, 6, 7}"
            ]
          },
          "metadata": {},
          "execution_count": 87
        }
      ],
      "source": [
        "himpunan_baru"
      ]
    },
    {
      "cell_type": "markdown",
      "id": "a3263153",
      "metadata": {
        "id": "a3263153"
      },
      "source": [
        "Harus (.add) kalo buat nambahin sesuatu ke `set`, ga bisa append."
      ]
    },
    {
      "cell_type": "markdown",
      "id": "ed0d506e",
      "metadata": {
        "id": "ed0d506e"
      },
      "source": [
        "Kita bisa ngebuat method baru, tapi ya untuk hal itu, kita harus membuat object baru, dan itu merupakan materi yang dinamakan 'Object Oriented Programming'. Next time!"
      ]
    },
    {
      "cell_type": "markdown",
      "id": "3e32bb75",
      "metadata": {
        "id": "3e32bb75"
      },
      "source": [
        "### Looping"
      ]
    },
    {
      "cell_type": "markdown",
      "id": "b4f7c09d",
      "metadata": {
        "id": "b4f7c09d"
      },
      "source": [
        "Looping is a way to do a process over and over again until a certain condition is fulfilled."
      ]
    },
    {
      "cell_type": "code",
      "execution_count": 88,
      "id": "457bbb45",
      "metadata": {
        "id": "457bbb45",
        "outputId": "1f9ff95a-b023-42fd-983c-ab10b0ea5c4c",
        "colab": {
          "base_uri": "https://localhost:8080/"
        }
      },
      "outputs": [
        {
          "output_type": "stream",
          "name": "stdout",
          "text": [
            "Nama peserta: Aldo\n",
            "Nama peserta: Budi\n",
            "Nama peserta: Cindy\n",
            "Nama peserta: Dilan\n"
          ]
        }
      ],
      "source": [
        "## This looping prints all members of a list\n",
        "list_loop = ['Aldo', 'Budi', 'Cindy', 'Dilan']\n",
        "\n",
        "for name in list_loop:\n",
        "    print('Nama peserta:', name)"
      ]
    },
    {
      "cell_type": "code",
      "execution_count": 89,
      "id": "ab9ef6c0",
      "metadata": {
        "id": "ab9ef6c0",
        "outputId": "fa9e1822-23be-4b7b-eb83-bceddc0dcdd8",
        "colab": {
          "base_uri": "https://localhost:8080/"
        }
      },
      "outputs": [
        {
          "output_type": "stream",
          "name": "stdout",
          "text": [
            "Nama peserta: Aldo\n",
            "Nama peserta: Budi\n",
            "Nama peserta: Cindy\n"
          ]
        }
      ],
      "source": [
        "print('Nama peserta:', list_loop[0])\n",
        "print('Nama peserta:', list_loop[1])\n",
        "print('Nama peserta:', list_loop[2])"
      ]
    },
    {
      "cell_type": "code",
      "execution_count": 90,
      "id": "85a6d42e",
      "metadata": {
        "id": "85a6d42e",
        "outputId": "e6195043-9438-4a65-eac3-29790ad9df9c",
        "colab": {
          "base_uri": "https://localhost:8080/"
        }
      },
      "outputs": [
        {
          "output_type": "stream",
          "name": "stdout",
          "text": [
            "1\n",
            "2\n",
            "3\n",
            "4\n",
            "5\n",
            "6\n",
            "7\n",
            "8\n"
          ]
        }
      ],
      "source": [
        "list_loop = [1,2,3,4,5,6,7,8]\n",
        "for x in list_loop:\n",
        "    print(x)"
      ]
    },
    {
      "cell_type": "code",
      "execution_count": 91,
      "id": "08b3beb7",
      "metadata": {
        "id": "08b3beb7",
        "outputId": "4ef20a8d-b17e-4e37-9d43-c0ba5178c4ac",
        "colab": {
          "base_uri": "https://localhost:8080/"
        }
      },
      "outputs": [
        {
          "output_type": "stream",
          "name": "stdout",
          "text": [
            "Abc\n",
            "Abc\n",
            "Abc\n",
            "Abc\n",
            "Abc\n",
            "Abc\n",
            "Abc\n"
          ]
        }
      ],
      "source": [
        "nama = 'Abc'\n",
        "\n",
        "for i in range(7):\n",
        "    print(nama)"
      ]
    },
    {
      "cell_type": "code",
      "execution_count": 91,
      "id": "a23198f9",
      "metadata": {
        "id": "a23198f9"
      },
      "outputs": [],
      "source": [
        ""
      ]
    },
    {
      "cell_type": "code",
      "execution_count": 101,
      "id": "b6519a64",
      "metadata": {
        "id": "b6519a64",
        "outputId": "038a1c1c-ef1d-44f1-f3d4-786bb4f394d6",
        "colab": {
          "base_uri": "https://localhost:8080/"
        }
      },
      "outputs": [
        {
          "output_type": "stream",
          "name": "stdout",
          "text": [
            "Mau angka berapa yang ditulis kelipatannya? 3\n",
            "Berapa kelipatan 3 yang diinginkan? 9\n",
            "3\n",
            "6\n",
            "9\n",
            "12\n",
            "15\n",
            "18\n",
            "21\n",
            "24\n",
            "27\n"
          ]
        }
      ],
      "source": [
        "a = 0\n",
        "\n",
        "kelipatan_angka_apa = int(input('Mau angka berapa yang ditulis kelipatannya? '))\n",
        "berapa_kali = int(input(f'Berapa kelipatan {kelipatan_angka_apa} yang diinginkan? '))\n",
        "\n",
        "for i in range(berapa_kali):\n",
        "    a = a + kelipatan_angka_apa\n",
        "    print(a)"
      ]
    },
    {
      "cell_type": "markdown",
      "id": "4f1e7037",
      "metadata": {
        "id": "4f1e7037"
      },
      "source": [
        "### If Else"
      ]
    },
    {
      "cell_type": "markdown",
      "id": "904dda70",
      "metadata": {
        "id": "904dda70"
      },
      "source": [
        "If Else usage is similar to how you would usually use If Else in Excel."
      ]
    },
    {
      "cell_type": "code",
      "execution_count": 95,
      "id": "673ab111",
      "metadata": {
        "id": "673ab111",
        "outputId": "027aa5c2-f92f-45f9-820e-da1ae7ac8087",
        "colab": {
          "base_uri": "https://localhost:8080/"
        }
      },
      "outputs": [
        {
          "output_type": "stream",
          "name": "stdout",
          "text": [
            "Congratulations! You get an A!\n"
          ]
        }
      ],
      "source": [
        "score = 90\n",
        "cheat = False\n",
        "\n",
        "if (score < 70) or (cheat == True):\n",
        "    print('You need to retake the class.')\n",
        "elif score < 85:\n",
        "    print('Great! You passed.')\n",
        "elif score < 90:\n",
        "    print('Great! You get a B+')\n",
        "else:\n",
        "    print('Congratulations! You get an A!')"
      ]
    },
    {
      "cell_type": "markdown",
      "id": "b574c698",
      "metadata": {
        "id": "b574c698"
      },
      "source": [
        "### Last Material: String and Indexing in Python (bridging to R)"
      ]
    },
    {
      "cell_type": "markdown",
      "id": "be486925",
      "metadata": {
        "id": "be486925"
      },
      "source": [
        "Strings are text data. In reality, it does not only contain letters, but also symbols we usually use in texts, such as '-', '!', and even the white space between two words."
      ]
    },
    {
      "cell_type": "code",
      "execution_count": 96,
      "id": "35e47e1f",
      "metadata": {
        "id": "35e47e1f"
      },
      "outputs": [],
      "source": [
        "teks = 'abcdkjdhfgkshrioltef'"
      ]
    },
    {
      "cell_type": "code",
      "execution_count": 97,
      "id": "5609e890",
      "metadata": {
        "id": "5609e890",
        "outputId": "8348361f-b4ea-4216-e269-2a539922e752",
        "colab": {
          "base_uri": "https://localhost:8080/",
          "height": 35
        }
      },
      "outputs": [
        {
          "output_type": "execute_result",
          "data": {
            "application/vnd.google.colaboratory.intrinsic+json": {
              "type": "string"
            },
            "text/plain": [
              "'dkjdhfgk'"
            ]
          },
          "metadata": {},
          "execution_count": 97
        }
      ],
      "source": [
        "teks[3:11]"
      ]
    },
    {
      "cell_type": "code",
      "execution_count": 98,
      "id": "f8c2839b",
      "metadata": {
        "id": "f8c2839b",
        "outputId": "97963c9c-4b9c-4222-a084-e5c7f84c4434",
        "colab": {
          "base_uri": "https://localhost:8080/",
          "height": 35
        }
      },
      "outputs": [
        {
          "output_type": "execute_result",
          "data": {
            "application/vnd.google.colaboratory.intrinsic+json": {
              "type": "string"
            },
            "text/plain": [
              "'olte'"
            ]
          },
          "metadata": {},
          "execution_count": 98
        }
      ],
      "source": [
        "teks[-5:-1]"
      ]
    },
    {
      "cell_type": "code",
      "execution_count": 99,
      "id": "8522390c",
      "metadata": {
        "id": "8522390c"
      },
      "outputs": [],
      "source": [
        "text = 'This is a sentence'"
      ]
    },
    {
      "cell_type": "code",
      "execution_count": 104,
      "id": "d33b5b03",
      "metadata": {
        "id": "d33b5b03",
        "outputId": "b326efa3-178a-448a-e6aa-5ab8e76b752e",
        "colab": {
          "base_uri": "https://localhost:8080/"
        }
      },
      "outputs": [
        {
          "output_type": "stream",
          "name": "stdout",
          "text": [
            "T\n",
            "h\n",
            "i\n",
            "s\n",
            " \n",
            "i\n"
          ]
        }
      ],
      "source": [
        "print(text[0])\n",
        "print(text[1])\n",
        "print(text[2])\n",
        "print(text[3])\n",
        "print(text[4])\n",
        "print(text[5])"
      ]
    },
    {
      "cell_type": "markdown",
      "id": "aec7522e",
      "metadata": {
        "id": "aec7522e"
      },
      "source": [
        "We can use negative number to spell our string from the last letter!"
      ]
    },
    {
      "cell_type": "code",
      "execution_count": 103,
      "id": "ce3be2ae",
      "metadata": {
        "id": "ce3be2ae",
        "outputId": "56201908-8212-4fc0-9350-1a18f5378e2b",
        "colab": {
          "base_uri": "https://localhost:8080/"
        }
      },
      "outputs": [
        {
          "output_type": "stream",
          "name": "stdout",
          "text": [
            "e\n",
            "c\n"
          ]
        }
      ],
      "source": [
        "print(text[-1])\n",
        "print(text[-2])"
      ]
    },
    {
      "cell_type": "code",
      "execution_count": 102,
      "id": "553b55dc",
      "metadata": {
        "id": "553b55dc"
      },
      "outputs": [],
      "source": [
        "text_1 = 'Coding with Python'\n",
        "text_2 = 'Belajar coding dengan dibimbing'"
      ]
    },
    {
      "cell_type": "code",
      "execution_count": 101,
      "id": "fff9745c",
      "metadata": {
        "id": "fff9745c"
      },
      "outputs": [],
      "source": [
        ""
      ]
    },
    {
      "cell_type": "markdown",
      "id": "82ef3a36",
      "metadata": {
        "id": "82ef3a36"
      },
      "source": [
        "We also can split a sentence into words."
      ]
    },
    {
      "cell_type": "code",
      "execution_count": 105,
      "id": "48e1d4aa",
      "metadata": {
        "id": "48e1d4aa"
      },
      "outputs": [],
      "source": [
        "text = 'This is a sentence'"
      ]
    },
    {
      "cell_type": "code",
      "execution_count": 107,
      "id": "457bbf06",
      "metadata": {
        "id": "457bbf06",
        "outputId": "b4d59373-5d9f-4de1-e5a0-05324885b0cd",
        "colab": {
          "base_uri": "https://localhost:8080/"
        }
      },
      "outputs": [
        {
          "output_type": "execute_result",
          "data": {
            "text/plain": [
              "['This', 'is', 'a', 'sentence']"
            ]
          },
          "metadata": {},
          "execution_count": 107
        }
      ],
      "source": [
        "text.split(' ')"
      ]
    },
    {
      "cell_type": "code",
      "execution_count": 106,
      "id": "131c1340",
      "metadata": {
        "id": "131c1340",
        "outputId": "c719ec53-d108-4aa5-f67c-269ea6f3701d",
        "colab": {
          "base_uri": "https://localhost:8080/"
        }
      },
      "outputs": [
        {
          "output_type": "execute_result",
          "data": {
            "text/plain": [
              "['Coding', 'dengan', 'Python']"
            ]
          },
          "metadata": {},
          "execution_count": 106
        }
      ],
      "source": [
        "text_3 = 'Coding-dengan-Python'\n",
        "text_3.split('-')"
      ]
    },
    {
      "cell_type": "code",
      "execution_count": 108,
      "id": "adc36ab3",
      "metadata": {
        "id": "adc36ab3"
      },
      "outputs": [],
      "source": [
        "list_baru = ['a','b','c']"
      ]
    },
    {
      "cell_type": "code",
      "execution_count": 109,
      "id": "6f8cf297",
      "metadata": {
        "id": "6f8cf297",
        "outputId": "1ffb73f7-8a9d-4dc5-ce1b-0b91a24fe92d",
        "colab": {
          "base_uri": "https://localhost:8080/"
        }
      },
      "outputs": [
        {
          "output_type": "execute_result",
          "data": {
            "text/plain": [
              "str"
            ]
          },
          "metadata": {},
          "execution_count": 109
        }
      ],
      "source": [
        "type('a')"
      ]
    },
    {
      "cell_type": "code",
      "execution_count": 110,
      "id": "4a865d8d",
      "metadata": {
        "id": "4a865d8d",
        "outputId": "031c6dca-fe3e-4f8d-b492-63eee1bb934c",
        "colab": {
          "base_uri": "https://localhost:8080/"
        }
      },
      "outputs": [
        {
          "output_type": "execute_result",
          "data": {
            "text/plain": [
              "str"
            ]
          },
          "metadata": {},
          "execution_count": 110
        }
      ],
      "source": [
        "x = 1\n",
        "type(str(x))"
      ]
    },
    {
      "cell_type": "code",
      "execution_count": 111,
      "id": "1ba44757",
      "metadata": {
        "id": "1ba44757"
      },
      "outputs": [],
      "source": [
        "a = 1"
      ]
    },
    {
      "cell_type": "code",
      "execution_count": 112,
      "id": "94e8fbdd",
      "metadata": {
        "id": "94e8fbdd"
      },
      "outputs": [],
      "source": [
        "del a"
      ]
    },
    {
      "cell_type": "code",
      "execution_count": 114,
      "id": "868d6a54",
      "metadata": {
        "id": "868d6a54",
        "outputId": "69ad1a2b-35d3-4c9d-ad2d-a36a66c526de",
        "colab": {
          "base_uri": "https://localhost:8080/",
          "height": 167
        }
      },
      "outputs": [
        {
          "output_type": "error",
          "ename": "NameError",
          "evalue": "ignored",
          "traceback": [
            "\u001b[0;31m---------------------------------------------------------------------------\u001b[0m",
            "\u001b[0;31mNameError\u001b[0m                                 Traceback (most recent call last)",
            "\u001b[0;32m<ipython-input-114-bca0e2660b9f>\u001b[0m in \u001b[0;36m<module>\u001b[0;34m()\u001b[0m\n\u001b[0;32m----> 1\u001b[0;31m \u001b[0mprint\u001b[0m\u001b[0;34m(\u001b[0m\u001b[0ma\u001b[0m\u001b[0;34m)\u001b[0m\u001b[0;34m\u001b[0m\u001b[0;34m\u001b[0m\u001b[0m\n\u001b[0m",
            "\u001b[0;31mNameError\u001b[0m: name 'a' is not defined"
          ]
        }
      ],
      "source": [
        "print(a)"
      ]
    },
    {
      "cell_type": "code",
      "execution_count": 113,
      "id": "343ce75a",
      "metadata": {
        "id": "343ce75a"
      },
      "outputs": [],
      "source": [
        ""
      ]
    },
    {
      "cell_type": "code",
      "execution_count": 114,
      "id": "3dfc00bb",
      "metadata": {
        "id": "3dfc00bb"
      },
      "outputs": [],
      "source": [
        ""
      ]
    },
    {
      "cell_type": "code",
      "execution_count": 114,
      "id": "7b936786",
      "metadata": {
        "id": "7b936786"
      },
      "outputs": [],
      "source": [
        ""
      ]
    }
  ],
  "metadata": {
    "kernelspec": {
      "display_name": "Python 3",
      "language": "python",
      "name": "python3"
    },
    "language_info": {
      "codemirror_mode": {
        "name": "ipython",
        "version": 3
      },
      "file_extension": ".py",
      "mimetype": "text/x-python",
      "name": "python",
      "nbconvert_exporter": "python",
      "pygments_lexer": "ipython3",
      "version": "3.7.0"
    },
    "colab": {
      "name": "Hands On Coding with Python.ipynb",
      "provenance": [],
      "collapsed_sections": [],
      "include_colab_link": true
    }
  },
  "nbformat": 4,
  "nbformat_minor": 5
}